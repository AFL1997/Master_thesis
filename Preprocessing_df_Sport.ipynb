{
 "cells": [
  {
   "cell_type": "code",
   "execution_count": null,
   "metadata": {},
   "outputs": [],
   "source": [
    "# Packages used in the script\n",
    "import numpy as np\n",
    "import pandas as pd\n",
    "from pandas.io.json import json_normalize\n",
    "import gzip\n",
    "import spacy\n",
    "import re\n",
    "from contractions import contractions_dict"
   ]
  },
  {
   "cell_type": "code",
   "execution_count": null,
   "metadata": {},
   "outputs": [],
   "source": [
    "# source: https://jmcauley.ucsd.edu/data/amazon/qa/\n",
    "# Reading the data\n",
    "def parse(path):\n",
    "    g = gzip.open(path, 'rb')\n",
    "    for l in g:\n",
    "        yield eval(l)\n",
    "\n",
    "# Convert to Pandas DataFrame        \n",
    "def getDF(path):\n",
    "    i = 0\n",
    "    df = {}\n",
    "    for d in parse(path):\n",
    "        df[i] = d\n",
    "        i += 1\n",
    "    return pd.DataFrame.from_dict(df, orient='index')\n",
    "\n",
    "df_sports = getDF('qa_Sports_and_Outdoors.json.gz')"
   ]
  },
  {
   "cell_type": "code",
   "execution_count": null,
   "metadata": {},
   "outputs": [],
   "source": [
    "pd.set_option('display.max_columns', None)  \n",
    "pd.set_option('display.expand_frame_repr', False)\n",
    "pd.set_option('max_colwidth', -1)"
   ]
  },
  {
   "cell_type": "code",
   "execution_count": null,
   "metadata": {},
   "outputs": [],
   "source": [
    "# Only extract the open-ended questions from the dataset\n",
    "df_sports_open = df_sports[df_electronics['questionType'] == 'open-ended']"
   ]
  },
  {
   "cell_type": "code",
   "execution_count": null,
   "metadata": {},
   "outputs": [],
   "source": [
    "# Remove the columns that are not relevant \n",
    "df_sports_amazon = df_sports_open.drop(['unixTime', 'answerType', 'answerTime'], axis=1)"
   ]
  },
  {
   "cell_type": "code",
   "execution_count": null,
   "metadata": {},
   "outputs": [],
   "source": [
    "# Remove contraction using the contraction library \n",
    "contractions_dict.pop('em') #removed as this causes ambiguities\n",
    "for contraction in contractions_dict:\n",
    "    df_sports_amazon[\"answer\"] = df_sports_amazon[\"answer\"].apply(lambda x:str(x).replace(contraction,contractions_dict[contraction]))"
   ]
  },
  {
   "cell_type": "code",
   "execution_count": null,
   "metadata": {},
   "outputs": [],
   "source": [
    "df_sports_amazon['answer'] = df_sports_amazon['answer'].str.lower()"
   ]
  },
  {
   "cell_type": "code",
   "execution_count": null,
   "metadata": {},
   "outputs": [],
   "source": [
    "# Extract sentences from the answers\n",
    "nlp = spacy.load(\"en_core_web_sm\")\n",
    "\n",
    "df_sports_amazon['sentences'] = df_sports_amazon['answer'].apply(lambda x: [str(sent).strip() for sent in nlp(str(x)).sents])"
   ]
  },
  {
   "cell_type": "code",
   "execution_count": null,
   "metadata": {},
   "outputs": [],
   "source": [
    " # Create lists to fill with values\n",
    "l_col1 = []\n",
    "l_col2 = []\n",
    "\n",
    "# iterate over each row and fill our lists\n",
    "for ix, row in df_sports_amazon.iterrows():\n",
    "    for value in row['sentences']:\n",
    "        l_col1.append(value)\n",
    "        l_col2.append(row['asin'])\n",
    "        #l_col3.append(row['answer'])\n",
    "\n",
    "# Create new dataframe from the two lists\n",
    "df_sport = pd.DataFrame({'sentences': l_col1 ,\n",
    "                         'asin': l_col2})\n",
    "df_sport = df_sport.rename(columns={\"asin\":\"product_type\"});"
   ]
  },
  {
   "cell_type": "code",
   "execution_count": null,
   "metadata": {},
   "outputs": [],
   "source": [
    "# Export DataFrame to CSV file\n",
    "df_sport.to_csv(r'/df_sport.csv', index = False)"
   ]
  },
  {
   "cell_type": "markdown",
   "metadata": {},
   "source": [
    "References dataset:\n",
    "\n",
    "Wan, M., & McAuley, J. (2016). Modeling ambiguity, subjectivity, and diverging viewpoints in opinion question answering systems. In 2016 IEEE 16th international conference on data mining (ICDM) (pp. 489-498). IEEE.\n",
    "\n",
    "McAuley, J., & Yang, A. (2016). Addressing complex and subjective product-related queries with customer reviews. In Proceedings of the 25th International Conference on World Wide Web (pp. 625-635)."
   ]
  },
  {
   "cell_type": "code",
   "execution_count": null,
   "metadata": {},
   "outputs": [],
   "source": []
  }
 ],
 "metadata": {
  "kernelspec": {
   "display_name": "Python 3",
   "language": "python",
   "name": "python3"
  },
  "language_info": {
   "codemirror_mode": {
    "name": "ipython",
    "version": 3
   },
   "file_extension": ".py",
   "mimetype": "text/x-python",
   "name": "python",
   "nbconvert_exporter": "python",
   "pygments_lexer": "ipython3",
   "version": "3.7.4"
  }
 },
 "nbformat": 4,
 "nbformat_minor": 2
}
